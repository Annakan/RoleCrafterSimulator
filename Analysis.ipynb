{
 "cells": [
  {
   "cell_type": "code",
   "execution_count": 1,
   "id": "6397baec-2ebe-4d6c-a0fa-e093fe1c1f7b",
   "metadata": {},
   "outputs": [],
   "source": [
    "import pandas as pd\n",
    "from pandasgui import show\n",
    "from simulators.main import evaluate_parameters"
   ]
  },
  {
   "cell_type": "code",
   "execution_count": null,
   "id": "b6492fcf-b67a-4b5f-91a8-5df900429f4c",
   "metadata": {},
   "outputs": [],
   "source": []
  },
  {
   "cell_type": "code",
   "execution_count": 2,
   "id": "8e52e2ea-d188-4081-b847-b6aaecf1de73",
   "metadata": {},
   "outputs": [
    {
     "name": "stdout",
     "output_type": "stream",
     "text": [
      "lane_size: 3 Endurance: 15 : [(False, 100.0)] 138 1 0\n",
      "lane_size: 3 Endurance: 16 : [(False, 100.0)] 139 1 0\n",
      "lane_size: 3 Endurance: 17 : [(False, 100.0)] 157 1 0\n",
      "lane_size: 3 Endurance: 18 : [(False, 100.0)] 161 2 0\n",
      "lane_size: 3 Endurance: 19 : [(False, 100.0)] 173 2 0\n",
      "lane_size: 3 Endurance: 20 : [(False, 100.0)] 178 2 0\n",
      "lane_size: 3 Endurance: 21 : [(False, 99.0), (True, 1.0)] 190 2 0\n",
      "lane_size: 3 Endurance: 22 : [(False, 99.0), (True, 1.0)] 193 2 0\n",
      "lane_size: 3 Endurance: 23 : [(False, 99.0), (True, 1.0)] 201 2 0\n",
      "lane_size: 3 Endurance: 24 : [(False, 93.0), (True, 7.0)] 205 2 0\n",
      "lane_size: 3 Endurance: 25 : [(False, 87.0), (True, 13.0)] 216 2 0\n",
      "lane_size: 4 Endurance: 15 : [(False, 100.0)] 413 5 0\n",
      "lane_size: 4 Endurance: 16 : [(False, 98.0), (True, 2.0)] 425 5 0\n",
      "lane_size: 4 Endurance: 17 : [(False, 90.0), (True, 10.0)] 474 6 0\n",
      "lane_size: 4 Endurance: 18 : [(False, 74.0), (True, 26.0)] 472 6 0\n",
      "lane_size: 4 Endurance: 19 : [(False, 45.0), (True, 55.0)] 482 6 0\n",
      "lane_size: 4 Endurance: 20 : [(False, 20.0), (True, 80.0)] 500 6 0\n",
      "lane_size: 4 Endurance: 21 : [(False, 4.0), (True, 96.0)] 493 6 0\n",
      "lane_size: 4 Endurance: 22 : [(False, 2.0), (True, 98.0)] 493 6 0\n",
      "lane_size: 4 Endurance: 23 : [(True, 100.0)] 488 6 0\n",
      "lane_size: 4 Endurance: 24 : [(True, 100.0)] 511 6 0\n",
      "lane_size: 4 Endurance: 25 : [(True, 100.0)] 503 6 0\n",
      "lane_size: 5 Endurance: 15 : [(False, 70.0), (True, 30.0)] 686 8 0\n",
      "lane_size: 5 Endurance: 16 : [(False, 30.0), (True, 70.0)] 721 9 0\n",
      "lane_size: 5 Endurance: 17 : [(False, 2.0), (True, 98.0)] 711 9 0\n",
      "lane_size: 5 Endurance: 18 : [(True, 100.0)] 696 8 0\n",
      "lane_size: 5 Endurance: 19 : [(True, 100.0)] 715 9 0\n",
      "lane_size: 5 Endurance: 20 : [(True, 100.0)] 690 8 0\n",
      "lane_size: 5 Endurance: 21 : [(True, 100.0)] 723 9 0\n",
      "lane_size: 5 Endurance: 22 : [(True, 100.0)] 696 8 0\n",
      "lane_size: 5 Endurance: 23 : [(True, 100.0)] 697 8 0\n",
      "lane_size: 5 Endurance: 24 : [(True, 100.0)] 695 8 0\n",
      "lane_size: 5 Endurance: 25 : [(True, 100.0)] 709 9 0\n",
      "lane_size: 6 Endurance: 15 : [(False, 3.0), (True, 97.0)] 803 10 0\n",
      "lane_size: 6 Endurance: 16 : [(True, 100.0)] 806 10 0\n",
      "lane_size: 6 Endurance: 17 : [(True, 100.0)] 793 10 0\n",
      "lane_size: 6 Endurance: 18 : [(True, 100.0)] 801 10 0\n",
      "lane_size: 6 Endurance: 19 : [(True, 100.0)] 809 10 0\n",
      "lane_size: 6 Endurance: 20 : [(True, 100.0)] 795 10 0\n",
      "lane_size: 6 Endurance: 21 : [(True, 100.0)] 817 10 0\n",
      "lane_size: 6 Endurance: 22 : [(True, 100.0)] 794 10 0\n",
      "lane_size: 6 Endurance: 23 : [(True, 100.0)] 793 10 0\n",
      "lane_size: 6 Endurance: 24 : [(True, 100.0)] 795 10 0\n",
      "lane_size: 6 Endurance: 25 : [(True, 100.0)] 802 10 0\n",
      "lane_size: 7 Endurance: 15 : [(False, 1.0), (True, 99.0)] 783 10 0\n",
      "lane_size: 7 Endurance: 16 : [(True, 100.0)] 778 10 0\n",
      "lane_size: 7 Endurance: 17 : [(True, 100.0)] 781 10 0\n",
      "lane_size: 7 Endurance: 18 : [(True, 100.0)] 765 9 0\n",
      "lane_size: 7 Endurance: 19 : [(True, 100.0)] 787 10 0\n",
      "lane_size: 7 Endurance: 20 : [(True, 100.0)] 785 10 0\n",
      "lane_size: 7 Endurance: 21 : [(True, 100.0)] 789 10 0\n",
      "lane_size: 7 Endurance: 22 : [(True, 100.0)] 808 10 0\n",
      "lane_size: 7 Endurance: 23 : [(True, 100.0)] 783 10 0\n",
      "lane_size: 7 Endurance: 24 : [(True, 100.0)] 782 10 0\n",
      "lane_size: 7 Endurance: 25 : [(True, 100.0)] 805 10 0\n"
     ]
    }
   ],
   "source": [
    "data = evaluate_parameters()"
   ]
  },
  {
   "cell_type": "code",
   "execution_count": 3,
   "id": "9b055b41-155f-463f-a0a8-655c03eaa7b6",
   "metadata": {},
   "outputs": [],
   "source": [
    "df = pd.DataFrame(data)"
   ]
  },
  {
   "cell_type": "code",
   "execution_count": 4,
   "id": "2dcf6d4c-5b32-49f3-9311-0420a026a7fe",
   "metadata": {},
   "outputs": [
    {
     "name": "stderr",
     "output_type": "stream",
     "text": [
      "PandasGUI INFO — pandasgui.gui — Opening PandasGUI\n",
      "INFO:pandasgui.gui:Opening PandasGUI\n",
      "/tmp/ipykernel_67367/4263464388.py:1: FutureWarning: Series.__getitem__ treating keys as positions is deprecated. In a future version, integer keys will always be treated as labels (consistent with DataFrame behavior). To access a value by position, use `ser.iloc[pos]`\n",
      "  gui = show(df)\n",
      "/tmp/ipykernel_67367/4263464388.py:1: FutureWarning: Series.__getitem__ treating keys as positions is deprecated. In a future version, integer keys will always be treated as labels (consistent with DataFrame behavior). To access a value by position, use `ser.iloc[pos]`\n",
      "  gui = show(df)\n",
      "/tmp/ipykernel_67367/4263464388.py:1: FutureWarning:\n",
      "\n",
      "Series.__getitem__ treating keys as positions is deprecated. In a future version, integer keys will always be treated as labels (consistent with DataFrame behavior). To access a value by position, use `ser.iloc[pos]`\n",
      "\n",
      "/tmp/ipykernel_67367/4263464388.py:1: FutureWarning:\n",
      "\n",
      "Series.__getitem__ treating keys as positions is deprecated. In a future version, integer keys will always be treated as labels (consistent with DataFrame behavior). To access a value by position, use `ser.iloc[pos]`\n",
      "\n",
      "/tmp/ipykernel_67367/4263464388.py:1: FutureWarning:\n",
      "\n",
      "Series.__getitem__ treating keys as positions is deprecated. In a future version, integer keys will always be treated as labels (consistent with DataFrame behavior). To access a value by position, use `ser.iloc[pos]`\n",
      "\n",
      "/tmp/ipykernel_67367/4263464388.py:1: FutureWarning:\n",
      "\n",
      "Series.__getitem__ treating keys as positions is deprecated. In a future version, integer keys will always be treated as labels (consistent with DataFrame behavior). To access a value by position, use `ser.iloc[pos]`\n",
      "\n"
     ]
    }
   ],
   "source": [
    "gui = show(df) "
   ]
  },
  {
   "cell_type": "code",
   "execution_count": null,
   "id": "c8f4415a-042b-47fb-ba9b-dc1d4a84fb30",
   "metadata": {},
   "outputs": [],
   "source": []
  },
  {
   "cell_type": "code",
   "execution_count": null,
   "id": "9b5c2769-80e3-4ef9-8727-f91139e253a1",
   "metadata": {},
   "outputs": [],
   "source": []
  }
 ],
 "metadata": {
  "kernelspec": {
   "display_name": "Python 3 (ipykernel)",
   "language": "python",
   "name": "python3"
  },
  "language_info": {
   "codemirror_mode": {
    "name": "ipython",
    "version": 3
   },
   "file_extension": ".py",
   "mimetype": "text/x-python",
   "name": "python",
   "nbconvert_exporter": "python",
   "pygments_lexer": "ipython3",
   "version": "3.11.6"
  }
 },
 "nbformat": 4,
 "nbformat_minor": 5
}

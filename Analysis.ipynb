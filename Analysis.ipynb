{
 "cells": [
  {
   "cell_type": "code",
   "execution_count": 1,
   "id": "6397baec-2ebe-4d6c-a0fa-e093fe1c1f7b",
   "metadata": {},
   "outputs": [],
   "source": [
    "import pandas as pd\n",
    "from pandasgui import show\n",
    "from simulators.main import iterate_game"
   ]
  },
  {
   "cell_type": "code",
   "execution_count": 2,
   "id": "8e52e2ea-d188-4081-b847-b6aaecf1de73",
   "metadata": {},
   "outputs": [
    {
     "ename": "NameError",
     "evalue": "name 'default_card_template_L5' is not defined",
     "output_type": "error",
     "traceback": [
      "\u001b[0;31m---------------------------------------------------------------------------\u001b[0m",
      "\u001b[0;31mNameError\u001b[0m                                 Traceback (most recent call last)",
      "Cell \u001b[0;32mIn[2], line 1\u001b[0m\n\u001b[0;32m----> 1\u001b[0m data \u001b[38;5;241m=\u001b[39m \u001b[43miterate_game\u001b[49m\u001b[43m(\u001b[49m\u001b[43m)\u001b[49m\n",
      "File \u001b[0;32m~/projects/RoleCrafterSimulator/simulators/main.py:28\u001b[0m, in \u001b[0;36miterate_game\u001b[0;34m(count)\u001b[0m\n\u001b[1;32m     26\u001b[0m \u001b[38;5;28;01mdef\u001b[39;00m \u001b[38;5;21miterate_game\u001b[39m(count\u001b[38;5;241m=\u001b[39m\u001b[38;5;241m200\u001b[39m) \u001b[38;5;241m-\u001b[39m\u001b[38;5;241m>\u001b[39m T\u001b[38;5;241m.\u001b[39mIterable:\n\u001b[1;32m     27\u001b[0m     summaries \u001b[38;5;241m=\u001b[39m []\n\u001b[0;32m---> 28\u001b[0m     project \u001b[38;5;241m=\u001b[39m \u001b[43mmid_craft_project\u001b[49m\u001b[43m(\u001b[49m\u001b[43m)\u001b[49m\n\u001b[1;32m     29\u001b[0m     crafter \u001b[38;5;241m=\u001b[39m Crafter(craft_skill\u001b[38;5;241m=\u001b[39m\u001b[38;5;241m60\u001b[39m, base_endurance\u001b[38;5;241m=\u001b[39m\u001b[38;5;241m25\u001b[39m, base_skill_modifier\u001b[38;5;241m=\u001b[39m\u001b[38;5;241m0\u001b[39m)\n\u001b[1;32m     30\u001b[0m     craft_game \u001b[38;5;241m=\u001b[39m CraftGame(\n\u001b[1;32m     31\u001b[0m         project\u001b[38;5;241m=\u001b[39mproject,\n\u001b[1;32m     32\u001b[0m         crafter\u001b[38;5;241m=\u001b[39mcrafter,\n\u001b[1;32m     33\u001b[0m         atelier\u001b[38;5;241m=\u001b[39matelier(),\n\u001b[1;32m     34\u001b[0m     )\n",
      "File \u001b[0;32m~/projects/RoleCrafterSimulator/simulators/main.py:21\u001b[0m, in \u001b[0;36mmid_craft_project\u001b[0;34m()\u001b[0m\n\u001b[1;32m     13\u001b[0m \u001b[38;5;28;01mdef\u001b[39;00m \u001b[38;5;21mmid_craft_project\u001b[39m():\n\u001b[1;32m     14\u001b[0m     \u001b[38;5;28;01mreturn\u001b[39;00m CraftProject(\n\u001b[1;32m     15\u001b[0m         products_tpls\u001b[38;5;241m=\u001b[39m[\n\u001b[1;32m     16\u001b[0m             (product_card_template_40, \u001b[38;5;241m3\u001b[39m),  \u001b[38;5;66;03m# noqa: F405\u001b[39;00m\n\u001b[1;32m     17\u001b[0m         ],\n\u001b[1;32m     18\u001b[0m         materias_tpls\u001b[38;5;241m=\u001b[39m[\n\u001b[1;32m     19\u001b[0m             (materia_card_template_50, \u001b[38;5;241m6\u001b[39m),  \u001b[38;5;66;03m# noqa: F405\u001b[39;00m\n\u001b[1;32m     20\u001b[0m         ],\n\u001b[0;32m---> 21\u001b[0m         defaults_tpls\u001b[38;5;241m=\u001b[39m[(default_card_template_50, \u001b[38;5;241m30\u001b[39m), (default_card_template_70, \u001b[38;5;241m20\u001b[39m), (default_card_template_90, \u001b[38;5;241m10\u001b[39m), (\u001b[43mdefault_card_template_L5\u001b[49m, \u001b[38;5;241m3\u001b[39m)],  \u001b[38;5;66;03m# noqa: F405\u001b[39;00m\n\u001b[1;32m     22\u001b[0m         tools_tpls\u001b[38;5;241m=\u001b[39m[],\n\u001b[1;32m     23\u001b[0m     )\n",
      "\u001b[0;31mNameError\u001b[0m: name 'default_card_template_L5' is not defined"
     ]
    }
   ],
   "source": [
    "data = iterate_game()"
   ]
  },
  {
   "cell_type": "code",
   "execution_count": null,
   "id": "9b055b41-155f-463f-a0a8-655c03eaa7b6",
   "metadata": {},
   "outputs": [],
   "source": [
    "df = pd.DataFrame(data)"
   ]
  },
  {
   "cell_type": "code",
   "execution_count": null,
   "id": "2dcf6d4c-5b32-49f3-9311-0420a026a7fe",
   "metadata": {},
   "outputs": [],
   "source": [
    "gui = show(df) "
   ]
  },
  {
   "cell_type": "code",
   "execution_count": null,
   "id": "c8f4415a-042b-47fb-ba9b-dc1d4a84fb30",
   "metadata": {},
   "outputs": [],
   "source": [
    "df['turn_count']"
   ]
  },
  {
   "cell_type": "code",
   "execution_count": null,
   "id": "9b5c2769-80e3-4ef9-8727-f91139e253a1",
   "metadata": {},
   "outputs": [],
   "source": []
  }
 ],
 "metadata": {
  "kernelspec": {
   "display_name": "Python 3 (ipykernel)",
   "language": "python",
   "name": "python3"
  },
  "language_info": {
   "codemirror_mode": {
    "name": "ipython",
    "version": 3
   },
   "file_extension": ".py",
   "mimetype": "text/x-python",
   "name": "python",
   "nbconvert_exporter": "python",
   "pygments_lexer": "ipython3",
   "version": "3.11.6"
  }
 },
 "nbformat": 4,
 "nbformat_minor": 5
}

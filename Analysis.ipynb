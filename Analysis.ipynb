{
 "cells": [
  {
   "cell_type": "code",
   "execution_count": 1,
   "id": "6397baec-2ebe-4d6c-a0fa-e093fe1c1f7b",
   "metadata": {},
   "outputs": [],
   "source": [
    "import pandas as pd\n",
    "from pandasgui import show\n",
    "from simulators.main import evaluate_parameters"
   ]
  },
  {
   "cell_type": "code",
   "execution_count": null,
   "id": "b6492fcf-b67a-4b5f-91a8-5df900429f4c",
   "metadata": {},
   "outputs": [],
   "source": []
  },
  {
   "cell_type": "code",
   "execution_count": 2,
   "id": "8e52e2ea-d188-4081-b847-b6aaecf1de73",
   "metadata": {},
   "outputs": [
    {
     "name": "stdout",
     "output_type": "stream",
     "text": [
      "lane_size: 3 Endurance: 15 : [(False, 99.0), (True, 1.0)]\n",
      "lane_size: 3 Endurance: 16 : [(False, 98.0), (True, 2.0)]\n",
      "lane_size: 3 Endurance: 17 : [(False, 95.0), (True, 5.0)]\n",
      "lane_size: 3 Endurance: 18 : [(False, 92.0), (True, 8.0)]\n",
      "lane_size: 3 Endurance: 19 : [(False, 87.0), (True, 13.0)]\n",
      "lane_size: 3 Endurance: 20 : [(False, 81.0), (True, 19.0)]\n",
      "lane_size: 3 Endurance: 21 : [(False, 75.0), (True, 25.0)]\n",
      "lane_size: 3 Endurance: 22 : [(False, 69.0), (True, 31.0)]\n",
      "lane_size: 3 Endurance: 23 : [(False, 64.0), (True, 36.0)]\n",
      "lane_size: 3 Endurance: 24 : [(False, 58.0), (True, 42.0)]\n",
      "lane_size: 3 Endurance: 25 : [(False, 54.0), (True, 46.0)]\n",
      "lane_size: 4 Endurance: 15 : [(False, 57.0), (True, 42.0)]\n",
      "lane_size: 4 Endurance: 16 : [(False, 61.0), (True, 39.0)]\n",
      "lane_size: 4 Endurance: 17 : [(False, 63.0), (True, 37.0)]\n",
      "lane_size: 4 Endurance: 18 : [(False, 64.0), (True, 36.0)]\n",
      "lane_size: 4 Endurance: 19 : [(False, 64.0), (True, 36.0)]\n",
      "lane_size: 4 Endurance: 20 : [(False, 64.0), (True, 36.0)]\n",
      "lane_size: 4 Endurance: 21 : [(False, 62.0), (True, 38.0)]\n",
      "lane_size: 4 Endurance: 22 : [(False, 60.0), (True, 40.0)]\n",
      "lane_size: 4 Endurance: 23 : [(False, 58.0), (True, 42.0)]\n",
      "lane_size: 4 Endurance: 24 : [(False, 56.0), (True, 44.0)]\n",
      "lane_size: 4 Endurance: 25 : [(False, 53.0), (True, 47.0)]\n",
      "lane_size: 5 Endurance: 15 : [(False, 55.0), (True, 45.0)]\n",
      "lane_size: 5 Endurance: 16 : [(False, 57.0), (True, 43.0)]\n",
      "lane_size: 5 Endurance: 17 : [(False, 59.0), (True, 41.0)]\n",
      "lane_size: 5 Endurance: 18 : [(False, 60.0), (True, 40.0)]\n",
      "lane_size: 5 Endurance: 19 : [(False, 60.0), (True, 40.0)]\n",
      "lane_size: 5 Endurance: 20 : [(False, 60.0), (True, 40.0)]\n",
      "lane_size: 5 Endurance: 21 : [(False, 59.0), (True, 41.0)]\n",
      "lane_size: 5 Endurance: 22 : [(False, 58.0), (True, 42.0)]\n",
      "lane_size: 5 Endurance: 23 : [(False, 57.0), (True, 43.0)]\n",
      "lane_size: 5 Endurance: 24 : [(False, 55.0), (True, 45.0)]\n",
      "lane_size: 5 Endurance: 25 : [(False, 54.0), (True, 46.0)]\n",
      "lane_size: 6 Endurance: 15 : [(False, 55.0), (True, 45.0)]\n",
      "lane_size: 6 Endurance: 16 : [(False, 56.0), (True, 44.0)]\n",
      "lane_size: 6 Endurance: 17 : [(False, 57.0), (True, 43.0)]\n",
      "lane_size: 6 Endurance: 18 : [(False, 58.0), (True, 42.0)]\n",
      "lane_size: 6 Endurance: 19 : [(False, 58.0), (True, 42.0)]\n",
      "lane_size: 6 Endurance: 20 : [(False, 58.0), (True, 42.0)]\n",
      "lane_size: 6 Endurance: 21 : [(False, 58.0), (True, 42.0)]\n",
      "lane_size: 6 Endurance: 22 : [(False, 57.0), (True, 43.0)]\n",
      "lane_size: 6 Endurance: 23 : [(False, 56.0), (True, 44.0)]\n",
      "lane_size: 6 Endurance: 24 : [(False, 55.0), (True, 45.0)]\n",
      "lane_size: 6 Endurance: 25 : [(False, 54.0), (True, 46.0)]\n",
      "lane_size: 7 Endurance: 15 : [(False, 55.0), (True, 45.0)]\n",
      "lane_size: 7 Endurance: 16 : [(False, 56.0), (True, 44.0)]\n",
      "lane_size: 7 Endurance: 17 : [(False, 57.0), (True, 43.0)]\n",
      "lane_size: 7 Endurance: 18 : [(False, 57.0), (True, 43.0)]\n",
      "lane_size: 7 Endurance: 19 : [(False, 58.0), (True, 42.0)]\n",
      "lane_size: 7 Endurance: 20 : [(False, 57.0), (True, 43.0)]\n",
      "lane_size: 7 Endurance: 21 : [(False, 57.0), (True, 43.0)]\n",
      "lane_size: 7 Endurance: 22 : [(False, 56.0), (True, 44.0)]\n",
      "lane_size: 7 Endurance: 23 : [(False, 56.0), (True, 44.0)]\n",
      "lane_size: 7 Endurance: 24 : [(False, 55.0), (True, 45.0)]\n",
      "lane_size: 7 Endurance: 25 : [(False, 54.0), (True, 46.0)]\n"
     ]
    }
   ],
   "source": [
    "data = evaluate_parameters()"
   ]
  },
  {
   "cell_type": "code",
   "execution_count": 3,
   "id": "9b055b41-155f-463f-a0a8-655c03eaa7b6",
   "metadata": {},
   "outputs": [],
   "source": [
    "df = pd.DataFrame(data)"
   ]
  },
  {
   "cell_type": "code",
   "execution_count": 4,
   "id": "2dcf6d4c-5b32-49f3-9311-0420a026a7fe",
   "metadata": {},
   "outputs": [
    {
     "name": "stderr",
     "output_type": "stream",
     "text": [
      "PandasGUI INFO — pandasgui.gui — Opening PandasGUI\n",
      "INFO:pandasgui.gui:Opening PandasGUI\n",
      "/tmp/ipykernel_107708/4263464388.py:1: FutureWarning: Series.__getitem__ treating keys as positions is deprecated. In a future version, integer keys will always be treated as labels (consistent with DataFrame behavior). To access a value by position, use `ser.iloc[pos]`\n",
      "  gui = show(df)\n",
      "/tmp/ipykernel_107708/4263464388.py:1: FutureWarning: Series.__getitem__ treating keys as positions is deprecated. In a future version, integer keys will always be treated as labels (consistent with DataFrame behavior). To access a value by position, use `ser.iloc[pos]`\n",
      "  gui = show(df)\n",
      "/tmp/ipykernel_107708/4263464388.py:1: FutureWarning:\n",
      "\n",
      "Series.__getitem__ treating keys as positions is deprecated. In a future version, integer keys will always be treated as labels (consistent with DataFrame behavior). To access a value by position, use `ser.iloc[pos]`\n",
      "\n",
      "/tmp/ipykernel_107708/4263464388.py:1: FutureWarning:\n",
      "\n",
      "Series.__getitem__ treating keys as positions is deprecated. In a future version, integer keys will always be treated as labels (consistent with DataFrame behavior). To access a value by position, use `ser.iloc[pos]`\n",
      "\n",
      "/tmp/ipykernel_107708/4263464388.py:1: FutureWarning:\n",
      "\n",
      "Series.__getitem__ treating keys as positions is deprecated. In a future version, integer keys will always be treated as labels (consistent with DataFrame behavior). To access a value by position, use `ser.iloc[pos]`\n",
      "\n",
      "/tmp/ipykernel_107708/4263464388.py:1: FutureWarning:\n",
      "\n",
      "Series.__getitem__ treating keys as positions is deprecated. In a future version, integer keys will always be treated as labels (consistent with DataFrame behavior). To access a value by position, use `ser.iloc[pos]`\n",
      "\n",
      "/home/gryom/.pyenv/versions/3.11.6/envs/RoleCrafterSimulator/lib/python3.11/site-packages/ipykernel/eventloops.py:128: FutureWarning:\n",
      "\n",
      "Series.__getitem__ treating keys as positions is deprecated. In a future version, integer keys will always be treated as labels (consistent with DataFrame behavior). To access a value by position, use `ser.iloc[pos]`\n",
      "\n",
      "/home/gryom/.pyenv/versions/3.11.6/envs/RoleCrafterSimulator/lib/python3.11/site-packages/ipykernel/eventloops.py:128: FutureWarning:\n",
      "\n",
      "Series.__getitem__ treating keys as positions is deprecated. In a future version, integer keys will always be treated as labels (consistent with DataFrame behavior). To access a value by position, use `ser.iloc[pos]`\n",
      "\n",
      "/home/gryom/.pyenv/versions/3.11.6/envs/RoleCrafterSimulator/lib/python3.11/site-packages/ipykernel/eventloops.py:128: FutureWarning:\n",
      "\n",
      "Series.__getitem__ treating keys as positions is deprecated. In a future version, integer keys will always be treated as labels (consistent with DataFrame behavior). To access a value by position, use `ser.iloc[pos]`\n",
      "\n",
      "/home/gryom/.pyenv/versions/3.11.6/envs/RoleCrafterSimulator/lib/python3.11/site-packages/ipykernel/eventloops.py:128: FutureWarning:\n",
      "\n",
      "Series.__getitem__ treating keys as positions is deprecated. In a future version, integer keys will always be treated as labels (consistent with DataFrame behavior). To access a value by position, use `ser.iloc[pos]`\n",
      "\n",
      "/home/gryom/.pyenv/versions/3.11.6/envs/RoleCrafterSimulator/lib/python3.11/site-packages/ipykernel/eventloops.py:128: FutureWarning:\n",
      "\n",
      "Series.__getitem__ treating keys as positions is deprecated. In a future version, integer keys will always be treated as labels (consistent with DataFrame behavior). To access a value by position, use `ser.iloc[pos]`\n",
      "\n",
      "/home/gryom/.pyenv/versions/3.11.6/envs/RoleCrafterSimulator/lib/python3.11/site-packages/ipykernel/eventloops.py:128: FutureWarning:\n",
      "\n",
      "Series.__getitem__ treating keys as positions is deprecated. In a future version, integer keys will always be treated as labels (consistent with DataFrame behavior). To access a value by position, use `ser.iloc[pos]`\n",
      "\n"
     ]
    },
    {
     "name": "stdout",
     "output_type": "stream",
     "text": [
      "Refreshed df\n",
      "Opening in existing browser session.\n"
     ]
    }
   ],
   "source": [
    "gui = show(df) "
   ]
  },
  {
   "cell_type": "code",
   "execution_count": null,
   "id": "c8f4415a-042b-47fb-ba9b-dc1d4a84fb30",
   "metadata": {},
   "outputs": [],
   "source": []
  },
  {
   "cell_type": "code",
   "execution_count": null,
   "id": "9b5c2769-80e3-4ef9-8727-f91139e253a1",
   "metadata": {},
   "outputs": [],
   "source": []
  }
 ],
 "metadata": {
  "kernelspec": {
   "display_name": "Python 3 (ipykernel)",
   "language": "python",
   "name": "python3"
  },
  "language_info": {
   "codemirror_mode": {
    "name": "ipython",
    "version": 3
   },
   "file_extension": ".py",
   "mimetype": "text/x-python",
   "name": "python",
   "nbconvert_exporter": "python",
   "pygments_lexer": "ipython3",
   "version": "3.11.6"
  }
 },
 "nbformat": 4,
 "nbformat_minor": 5
}
